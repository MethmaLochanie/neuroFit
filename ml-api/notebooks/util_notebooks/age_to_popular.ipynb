{
  "metadata": {
    "kernelspec": {
      "language": "python",
      "display_name": "Python 3",
      "name": "python3"
    },
    "language_info": {
      "name": "python",
      "version": "3.11.11",
      "mimetype": "text/x-python",
      "codemirror_mode": {
        "name": "ipython",
        "version": 3
      },
      "pygments_lexer": "ipython3",
      "nbconvert_exporter": "python",
      "file_extension": ".py"
    },
    "kaggle": {
      "accelerator": "gpu",
      "dataSources": [
        {
          "sourceId": 31254,
          "databundleVersionId": 3103714,
          "sourceType": "competition"
        },
        {
          "sourceId": 11199799,
          "sourceType": "datasetVersion",
          "datasetId": 6992705
        },
        {
          "sourceId": 11209290,
          "sourceType": "datasetVersion",
          "datasetId": 6999334
        },
        {
          "sourceId": 380823,
          "sourceType": "modelInstanceVersion",
          "isSourceIdPinned": true,
          "modelInstanceId": 314634,
          "modelId": 335046
        }
      ],
      "dockerImageVersionId": 31011,
      "isInternetEnabled": true,
      "language": "python",
      "sourceType": "notebook",
      "isGpuEnabled": true
    },
    "colab": {
      "name": "notebookae02683619",
      "provenance": []
    }
  },
  "nbformat_minor": 0,
  "nbformat": 4,
  "cells": [
    {
      "cell_type": "code",
      "source": [
        "import pandas as pd\n",
        "import pickle"
      ],
      "metadata": {
        "id": "52ZMUQcE8eKq"
      },
      "execution_count": null,
      "outputs": []
    },
    {
      "cell_type": "code",
      "source": [
        "# --------------------------\n",
        "# 4g) Build age_to_popular.pkl\n",
        "# --------------------------\n",
        "# Load raw transactions & customers (for true purchase counts by age)\n",
        "raw_trans = pd.read_csv(\n",
        "    \"/kaggle/input/h-and-m-personalized-fashion-recommendations/transactions_train.csv\",\n",
        "    usecols=[\"customer_id\",\"article_id\"]\n",
        ")\n",
        "raw_cust  = pd.read_csv(\n",
        "    \"/kaggle/input/h-and-m-personalized-fashion-recommendations/customers.csv\",\n",
        "    usecols=[\"customer_id\",\"age\"]\n",
        ").dropna(subset=[\"age\"])\n",
        "\n",
        "# zero-pad article_ids to match your preprocessing\n",
        "def adjust_id(x):\n",
        "    s = str(x)\n",
        "    return \"0\" + s if len(s)==9 else s\n",
        "raw_trans[\"article_id\"] = raw_trans[\"article_id\"].apply(adjust_id)\n",
        "\n",
        "# merge to get age on each purchase\n",
        "df = raw_trans.merge(raw_cust, on=\"customer_id\", how=\"inner\")\n",
        "\n",
        "# count purchases per (age, article)\n",
        "counts = (\n",
        "    df\n",
        "    .groupby([\"age\",\"article_id\"])\n",
        "    .size()\n",
        "    .reset_index(name=\"cnt\")\n",
        ")\n",
        "\n",
        "# for each age, sort by descending cnt → list of article_ids\n",
        "age_to_pop = {\n",
        "    int(age): sub.sort_values(\"cnt\", ascending=False)[\"article_id\"].tolist()\n",
        "    for age, sub in counts.groupby(\"age\")\n",
        "}\n",
        "\n",
        "# save\n",
        "with open(\"age_to_popular.pkl\", \"wb\") as f:\n",
        "    pickle.dump(age_to_pop, f)\n",
        "print(\"✅ Saved age_to_popular.pkl\")\n"
      ],
      "metadata": {
        "trusted": true,
        "execution": {
          "iopub.status.busy": "2025-05-07T18:43:41.648016Z",
          "iopub.execute_input": "2025-05-07T18:43:41.64861Z",
          "iopub.status.idle": "2025-05-07T18:45:36.05446Z",
          "shell.execute_reply.started": "2025-05-07T18:43:41.648585Z",
          "shell.execute_reply": "2025-05-07T18:45:36.053695Z"
        },
        "id": "RdrTrZt78VW1",
        "outputId": "2d8c9a22-5a34-4f94-bb28-a8297199b7e2"
      },
      "outputs": [
        {
          "name": "stdout",
          "text": "✅ Saved age_to_popular.pkl\n",
          "output_type": "stream"
        }
      ],
      "execution_count": null
    }
  ]
}